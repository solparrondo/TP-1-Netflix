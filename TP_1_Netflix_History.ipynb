{
  "nbformat": 4,
  "nbformat_minor": 0,
  "metadata": {
    "colab": {
      "provenance": [],
      "collapsed_sections": [],
      "include_colab_link": true
    },
    "kernelspec": {
      "name": "python3",
      "display_name": "Python 3"
    },
    "language_info": {
      "name": "python"
    }
  },
  "cells": [
    {
      "cell_type": "markdown",
      "metadata": {
        "id": "view-in-github",
        "colab_type": "text"
      },
      "source": [
        "<a href=\"https://colab.research.google.com/github/solparrondo/TP-1-Netflix/blob/main/TP_1_Netflix_History.ipynb\" target=\"_parent\"><img src=\"https://colab.research.google.com/assets/colab-badge.svg\" alt=\"Open In Colab\"/></a>"
      ]
    },
    {
      "cell_type": "markdown",
      "source": [
        "Importando librerias"
      ],
      "metadata": {
        "id": "Ebod8o1ykxDo"
      }
    },
    {
      "cell_type": "code",
      "execution_count": 212,
      "metadata": {
        "id": "BdjHCntwQv9X"
      },
      "outputs": [],
      "source": [
        "#Importamos las librerias que vamos a utilizar\n",
        "import pandas as pd\n",
        "import matplotlib.pyplot as plt\n",
        "import seaborn as sns"
      ]
    },
    {
      "cell_type": "markdown",
      "source": [
        "Guardando el dataframe"
      ],
      "metadata": {
        "id": "hlXIrIH4k5kn"
      }
    },
    {
      "cell_type": "code",
      "source": [
        "#Guardamos el csv del historial de Netflix en un dataframe\n",
        "df = pd.read_csv('NetflixHistory.csv')"
      ],
      "metadata": {
        "id": "azL5quzzSlTb"
      },
      "execution_count": 213,
      "outputs": []
    },
    {
      "cell_type": "markdown",
      "source": [
        "## Ejercicio a: Contabilizar el dispositivo con el que más títulos se reprodujeron."
      ],
      "metadata": {
        "id": "O_nJw_1ySfKq"
      }
    },
    {
      "cell_type": "markdown",
      "source": [
        "Eliminando los dispositivos que queremos ignorar y no tomar en cuenta"
      ],
      "metadata": {
        "id": "dzOeSQrolAMM"
      }
    },
    {
      "cell_type": "code",
      "source": [
        "devices = df['Device Type']\n",
        "ignore = df['Supplemental Video Type']\n",
        "value_list = ['Sony PS4', 'Netflix Windows App - Cadmium Windows Mobile', 'Apple iPhone 6s', 'Apple iPhone 7 Plus (CDMA)', 'Chrome PC (Cadmium)', 'Samsung 2015 NT14M DTV Smart TV', 'iPhone 5S GSM', 'Google Chromecast V3 Streaming Stick']\n",
        "def esValido(disp): #funcion para traer todos los dispositivos que no esten en value_list\n",
        "  return disp not in value_list #devuelve todos los valores de la columna \"Device Type\" menos los que estan en la lista value_list\n",
        "\n",
        "df = df[df[\"Device Type\"].apply(esValido)] #se le aplica la funcion esValido a la columna \"Device Type\" para que en el dataframe solo aparezcan los dispositivos que queremos"
      ],
      "metadata": {
        "id": "mCEp7xO5Zayh"
      },
      "execution_count": 214,
      "outputs": []
    },
    {
      "cell_type": "markdown",
      "source": [
        "Contamos cuantas veces aparecen cada dispositivo y tomamos el mayor"
      ],
      "metadata": {
        "id": "NEz9d46Y3iFE"
      }
    },
    {
      "cell_type": "code",
      "source": [
        "df[\"Device Type\"].value_counts().head(1) "
      ],
      "metadata": {
        "colab": {
          "base_uri": "https://localhost:8080/"
        },
        "id": "pgQxPuwVe9I1",
        "outputId": "39158299-1668-4139-df4d-db9421ec3ba5"
      },
      "execution_count": 215,
      "outputs": [
        {
          "output_type": "execute_result",
          "data": {
            "text/plain": [
              "Apple Apple TV 4 Apple TV    3519\n",
              "Name: Device Type, dtype: int64"
            ]
          },
          "metadata": {},
          "execution_count": 215
        }
      ]
    },
    {
      "cell_type": "markdown",
      "source": [
        "## Ejercicio B: Encontrar la película con más ocurrencias y la película con mayor duración total"
      ],
      "metadata": {
        "id": "lAxeRhzn4Jb3"
      }
    },
    {
      "cell_type": "markdown",
      "source": [
        "Haciendo un dataframe solo con peliculas y series (sin trailers, hooks, recaps, etc), filtrandolo y hacer otro dataframe para quedarnos solo con las peliculas "
      ],
      "metadata": {
        "id": "pz7fL_wZlTZY"
      }
    },
    {
      "cell_type": "code",
      "source": [
        "#funcion para traer todas las pelis y series que no tengan nada en la columna Supplemental Video Type\n",
        "def moviesAndSeries (videoType):\n",
        "  return videoType is np.NaN #devuelve los titulos que su valor en la columna \"Supplemental Video Type\" es nulo\n",
        "\n",
        "noVideoType = df[df[\"Supplemental Video Type\"].apply(moviesAndSeries)]\n",
        "\n",
        "#funcion para traer solo las pelis\n",
        "def IsMovie(movie):\n",
        "    return \"Capítulo\" not in movie #devuelve los titulos que no incluyen \"capitulo\" \n",
        "\n",
        "movies = noVideoType[noVideoType[\"Title\"].apply(IsMovie)] #se le aplica la funcion isMovie a la columna \"Title\""
      ],
      "metadata": {
        "id": "P_oEp3Ni4QS3"
      },
      "execution_count": 216,
      "outputs": []
    },
    {
      "cell_type": "markdown",
      "source": [
        "### Pelicula mas frequente"
      ],
      "metadata": {
        "id": "C4vbIttmDoaE"
      }
    },
    {
      "cell_type": "markdown",
      "source": [
        "Contamos cuantas veces aparecen cada pelicula y tomamos el mayor"
      ],
      "metadata": {
        "id": "lMqO8dMi3vSY"
      }
    },
    {
      "cell_type": "code",
      "source": [
        "movies[\"Title\"].value_counts() #devuelve cuantas veces aparece tal titulo \n",
        "mostFrequentMovie = movies[\"Title\"].mode() #devuelve el top 1 de mas vistas\n",
        "mostFrequentMovie"
      ],
      "metadata": {
        "id": "21mOV5Zd-M4-",
        "colab": {
          "base_uri": "https://localhost:8080/"
        },
        "outputId": "3fc9596f-332c-42c2-9ec5-9620ab03968b"
      },
      "execution_count": 217,
      "outputs": [
        {
          "output_type": "execute_result",
          "data": {
            "text/plain": [
              "0                     El código enigma\n",
              "1    Star Wars: El Imperio contraataca\n",
              "dtype: object"
            ]
          },
          "metadata": {},
          "execution_count": 217
        }
      ]
    },
    {
      "cell_type": "markdown",
      "source": [
        "### Pelicula con mayor duración"
      ],
      "metadata": {
        "id": "bOdF7VO9hnb7"
      }
    },
    {
      "cell_type": "markdown",
      "source": [
        "Pasando las duraciones a segundos"
      ],
      "metadata": {
        "id": "Fu1B9Y4lmLK7"
      }
    },
    {
      "cell_type": "code",
      "source": [
        "#Divide el string de tiempo de formato h:m:s y guarda cada seccion en una variable distinta, pasa las variables a segundos y las suma\n",
        "def toSeconds(time_str):\n",
        "  try:\n",
        "    h, m, s = time_str.split(':')\n",
        "    return int(h) * 3600 + int(m) * 60 + int(s) #devuelve el tiempo en segundos\n",
        "  except:\n",
        "    return time_str"
      ],
      "metadata": {
        "id": "93QJIt1BHESy"
      },
      "execution_count": 218,
      "outputs": []
    },
    {
      "cell_type": "code",
      "source": [
        "#Funcion equivalente, pero usando pandas\n",
        "def toSeconds2(time_str):\n",
        "  timedelta = pd.Timedelta(time_str)\n",
        "  timedelta.total_seconds()"
      ],
      "metadata": {
        "id": "MnA9cQClNZIn"
      },
      "execution_count": 219,
      "outputs": []
    },
    {
      "cell_type": "code",
      "source": [
        "movies[\"Duration\"] = movies[\"Duration\"].apply(toSeconds2) #se le aplica la funcion toSeconds2 a la columna \"Duration\""
      ],
      "metadata": {
        "id": "HiZo0OSgHKKS",
        "colab": {
          "base_uri": "https://localhost:8080/"
        },
        "outputId": "be6668a4-394d-4133-c254-7308eb2b62db"
      },
      "execution_count": 220,
      "outputs": [
        {
          "output_type": "stream",
          "name": "stderr",
          "text": [
            "/usr/local/lib/python3.7/dist-packages/ipykernel_launcher.py:1: SettingWithCopyWarning: \n",
            "A value is trying to be set on a copy of a slice from a DataFrame.\n",
            "Try using .loc[row_indexer,col_indexer] = value instead\n",
            "\n",
            "See the caveats in the documentation: https://pandas.pydata.org/pandas-docs/stable/user_guide/indexing.html#returning-a-view-versus-a-copy\n",
            "  \"\"\"Entry point for launching an IPython kernel.\n"
          ]
        }
      ]
    },
    {
      "cell_type": "code",
      "source": [
        "mayorAMenorDuracion = movies.sort_values(by = \"Duration\", ascending = False) #ordena los valores de la columna \"Duration\" de mayor a menor \n",
        "mostDurationMovie = mayorAMenorDuracion[\"Title\"].iloc[0] #toma el valor más grande, el primero\n",
        "mostDurationMovie"
      ],
      "metadata": {
        "id": "NdalXQWrR9en",
        "colab": {
          "base_uri": "https://localhost:8080/",
          "height": 37
        },
        "outputId": "195bf966-e393-4be7-c4c7-bfd391c1c668"
      },
      "execution_count": 221,
      "outputs": [
        {
          "output_type": "execute_result",
          "data": {
            "text/plain": [
              "'Mr. Holmes'"
            ],
            "application/vnd.google.colaboratory.intrinsic+json": {
              "type": "string"
            }
          },
          "metadata": {},
          "execution_count": 221
        }
      ]
    },
    {
      "cell_type": "markdown",
      "source": [
        "##Generar un TOP “N” de series vistas y graficar.\n"
      ],
      "metadata": {
        "id": "40IGMDSMevlj"
      }
    },
    {
      "cell_type": "markdown",
      "source": [
        "###Por tiempo visto"
      ],
      "metadata": {
        "id": "OYBTHaRNfAyU"
      }
    },
    {
      "cell_type": "markdown",
      "source": [
        "Filtramos las series, a partir del dataframe con solo peliculas y series, y las guardamos en un dataframe"
      ],
      "metadata": {
        "id": "PHXLvfOUmweV"
      }
    },
    {
      "cell_type": "code",
      "source": [
        "#funcion para tomar solo los titulos que contengan la palabra \"Capitulo\", de la columna \"Title\", es decir, solo las series\n",
        "def IsSerie(serie):\n",
        "    return \"Capítulo\" in serie \n",
        "\n",
        "series = noVideoType[noVideoType[\"Title\"].apply(IsSerie)] #se le aplica la funcion isSerie a la columna \"Title\" del dataframe de solo pelis y series\n",
        "series[\"Duration\"] = series[\"Duration\"].apply(toSeconds) #se le aplica la funcion toSeconds a la columna \"Duration\" del dataframe con solo series"
      ],
      "metadata": {
        "id": "JGa11Pt1fJrp",
        "colab": {
          "base_uri": "https://localhost:8080/"
        },
        "outputId": "b2ef3024-f7b1-4a57-ea54-3377b1f85640"
      },
      "execution_count": 222,
      "outputs": [
        {
          "output_type": "stream",
          "name": "stderr",
          "text": [
            "/usr/local/lib/python3.7/dist-packages/ipykernel_launcher.py:6: SettingWithCopyWarning: \n",
            "A value is trying to be set on a copy of a slice from a DataFrame.\n",
            "Try using .loc[row_indexer,col_indexer] = value instead\n",
            "\n",
            "See the caveats in the documentation: https://pandas.pydata.org/pandas-docs/stable/user_guide/indexing.html#returning-a-view-versus-a-copy\n",
            "  \n"
          ]
        }
      ]
    },
    {
      "cell_type": "markdown",
      "source": [
        "Simplificar el nombre de la serie, tomando solo su titulo"
      ],
      "metadata": {
        "id": "Mv59TOs_m4yl"
      }
    },
    {
      "cell_type": "code",
      "source": [
        "#funcion para acortar el titulo de las series\n",
        "def shortenSeriesTitle(seriesTitle):\n",
        "  return seriesTitle.split(':')[0] #divide el titulo cada vez que aparece \":\" y toma el primer valor, devuelve solo el titulo, es decir, el nombre\n",
        "\n",
        "series[\"Title\"] = series[\"Title\"].apply(shortenSeriesTitle) #se le aplica la funcion shortenSeriesTitle a la columna \"Title\" del dataframe de solo series\n"
      ],
      "metadata": {
        "id": "sBA1DbZRDv7G",
        "colab": {
          "base_uri": "https://localhost:8080/"
        },
        "outputId": "4a8f5dfe-cefc-4cdb-8319-3c81a8a187f7"
      },
      "execution_count": 223,
      "outputs": [
        {
          "output_type": "stream",
          "name": "stderr",
          "text": [
            "/usr/local/lib/python3.7/dist-packages/ipykernel_launcher.py:5: SettingWithCopyWarning: \n",
            "A value is trying to be set on a copy of a slice from a DataFrame.\n",
            "Try using .loc[row_indexer,col_indexer] = value instead\n",
            "\n",
            "See the caveats in the documentation: https://pandas.pydata.org/pandas-docs/stable/user_guide/indexing.html#returning-a-view-versus-a-copy\n",
            "  \"\"\"\n"
          ]
        }
      ]
    },
    {
      "cell_type": "markdown",
      "source": [
        "Sumamos todas las duraciones de todos sus respectivos titulos y agarramos solo las primeras tres"
      ],
      "metadata": {
        "id": "EvEBit4cmSkh"
      }
    },
    {
      "cell_type": "code",
      "source": [
        "n = 3\n",
        "series_duration = series.groupby('Title')['Duration'].sum() \n",
        "mayorAMenorDuracionSeries = series_duration.sort_values(axis = 0, ascending = False) #ordena de mayor a menor las duraciones de cada serie\n",
        "topNMostDurationSeries = mayorAMenorDuracionSeries.keys()[:n] #toma los primeros n valores \n",
        "topNMostDurationSeries"
      ],
      "metadata": {
        "id": "r5PTDWc2fsvI",
        "colab": {
          "base_uri": "https://localhost:8080/"
        },
        "outputId": "254c219a-131c-4fe2-b705-f2c65432a78f"
      },
      "execution_count": 224,
      "outputs": [
        {
          "output_type": "execute_result",
          "data": {
            "text/plain": [
              "Index(['Cómo conocí a tu madre', 'Community', 'Friends'], dtype='object', name='Title')"
            ]
          },
          "metadata": {},
          "execution_count": 224
        }
      ]
    },
    {
      "cell_type": "markdown",
      "source": [
        "Creamos un grafico de los titulos y la cantidad de tiempo que se reproducieron"
      ],
      "metadata": {
        "id": "uLqFqKAvmpYC"
      }
    },
    {
      "cell_type": "code",
      "source": [
        "fig, ax = plt.subplots()\n",
        "ax.set_ylabel('Duracion') #se le asigna el titulo a la linea y\n",
        "ax.set_xlabel('Series') #se le asigna el titulo a la linea x\n",
        "plt.title ('Top ' + str(n) + ' series por tiempo visto') #se asigna el titulo al grafico\n",
        "plt.bar(topNMostDurationSeries, mayorAMenorDuracionSeries.tolist()[:n]) #se le manda los valores que queremos que se muestren \n",
        "plt.show()"
      ],
      "metadata": {
        "colab": {
          "base_uri": "https://localhost:8080/",
          "height": 295
        },
        "id": "_9JY4iLfCH9B",
        "outputId": "32845011-5182-4349-c635-fc8516210860"
      },
      "execution_count": 242,
      "outputs": [
        {
          "output_type": "display_data",
          "data": {
            "text/plain": [
              "<Figure size 432x288 with 1 Axes>"
            ],
            "image/png": "[encoded data removed]"
          },
          "metadata": {
            "needs_background": "light"
          }
        }
      ]
    },
    {
      "cell_type": "markdown",
      "source": [
        "###Por ocurrencias"
      ],
      "metadata": {
        "id": "4SIPuVKJhG-8"
      }
    },
    {
      "cell_type": "markdown",
      "source": [
        "Contamos la cantidad de veces que aparece cada titulo de cada serie y las tres que mayor ocurrencias tienen"
      ],
      "metadata": {
        "id": "UITz3q8vnK-N"
      }
    },
    {
      "cell_type": "code",
      "source": [
        "topNMostFrequentSeries = series['Title'].value_counts().head(n) \n",
        "topNMostFrequentSeries"
      ],
      "metadata": {
        "id": "Z3rtOgoOiIkj",
        "colab": {
          "base_uri": "https://localhost:8080/"
        },
        "outputId": "fd5492b3-075a-423c-bc8a-0d8f94c0377b"
      },
      "execution_count": 226,
      "outputs": [
        {
          "output_type": "execute_result",
          "data": {
            "text/plain": [
              "Community                 870\n",
              "Cómo conocí a tu madre    780\n",
              "Friends                   604\n",
              "Name: Title, dtype: int64"
            ]
          },
          "metadata": {},
          "execution_count": 226
        }
      ]
    },
    {
      "cell_type": "code",
      "source": [
        "fig, ax = plt.subplots() \n",
        "ax.set_ylabel('Capítulos vistos') #se le asigna el titulo a la linea y\n",
        "ax.set_xlabel('Series') #se le asigna el titulo a la linea x\n",
        "plt.title ('Top ' + str(n) + ' series por ocurrencias') #se asigna el titulo al grafico\n",
        "plt.bar(topNMostFrequentSeries.keys(), topNMostFrequentSeries.tolist()) #se le manda los valores que queremos que se muestren\n",
        "plt.show()"
      ],
      "metadata": {
        "colab": {
          "base_uri": "https://localhost:8080/",
          "height": 295
        },
        "id": "iymnMus60Qo5",
        "outputId": "9af0c27a-e7a8-43cb-d1a8-a1e779ee04c3"
      },
      "execution_count": 243,
      "outputs": [
        {
          "output_type": "display_data",
          "data": {
            "text/plain": [
              "<Figure size 432x288 with 1 Axes>"
            ],
            "image/png": "[encoded data removed]"
          },
          "metadata": {
            "needs_background": "light"
          }
        }
      ]
    },
    {
      "cell_type": "markdown",
      "source": [
        "##Visualizar una semana de reproducciones genérica, en función a las reproducciones por día y por horario de todos los años.\n"
      ],
      "metadata": {
        "id": "4BPB4FQjAUwp"
      }
    },
    {
      "cell_type": "markdown",
      "source": [
        "Creamos una funcion donde separamos el string de la columna \"Start Time\" en la fecha y el tiempo, la cual retorna solo la fecha"
      ],
      "metadata": {
        "id": "jRFs3zqtnk93"
      }
    },
    {
      "cell_type": "code",
      "source": [
        "allTitlesStartTime = df[\"Start Time\"]\n",
        "def dateStartTime(startTimeTitles): \n",
        "  return startTimeTitles.split(\" \") [0]\n",
        "\n",
        "date = allTitlesStartTime.apply(dateStartTime)\n"
      ],
      "metadata": {
        "id": "4v8gla1AYSKz"
      },
      "execution_count": 229,
      "outputs": []
    },
    {
      "cell_type": "markdown",
      "source": [
        "Nos fijamos en que dia de la semana cayeron esas fechas, creamos una nueva columna en el dataframe y las guardamos ahi"
      ],
      "metadata": {
        "id": "QtCncAzpn-vk"
      }
    },
    {
      "cell_type": "code",
      "source": [
        "dateTime = pd.to_datetime(date, format = \"%Y-%m-%d\").dt.day_name() #devuelve que dia de la semana cayo tal fecha"
      ],
      "metadata": {
        "id": "Yzoi1Ep-cPH8"
      },
      "execution_count": 230,
      "outputs": []
    },
    {
      "cell_type": "code",
      "source": [
        "if \"Day\" in df.columns: #Comprueba que no exista ya una columna llamada \"Day\"\n",
        "  df.reset_index()\n",
        "else:\n",
        "  df.insert(4, \"Day\", dateTime, allow_duplicates=True) #se agrega una nueva columna \"Day\" en el dataframe para guardar el dia de la semana en el que cayo cada fecha"
      ],
      "metadata": {
        "id": "06Eh7PaVMrSX"
      },
      "execution_count": 231,
      "outputs": []
    },
    {
      "cell_type": "markdown",
      "source": [
        "Creamos una funcion donde separamos el string de la columna \"Start Time\" en la fecha y el tiempo, tomamos el tiempo, lo dividimos en hora, segundos y minutos y retornamos solo la hora"
      ],
      "metadata": {
        "id": "9OYsrIeMomr_"
      }
    },
    {
      "cell_type": "code",
      "source": [
        "def hourStartTime(startTimeTitles): \n",
        "  hour = startTimeTitles.split(\" \") [1]\n",
        "  return hour.split(\":\")[0]\n",
        "\n",
        "hourTime = allTitlesStartTime.apply(hourStartTime)"
      ],
      "metadata": {
        "id": "6injCc0ZAd2B"
      },
      "execution_count": 232,
      "outputs": []
    },
    {
      "cell_type": "markdown",
      "source": [
        "Creamos una nueva columna en el dataframe y las guardamos las horas ahi"
      ],
      "metadata": {
        "id": "OqKBw1c-Gedx"
      }
    },
    {
      "cell_type": "code",
      "source": [
        "if \"Hour\" in df.columns: #Comprueba que no exista ya una columna llamada \"Hour\"\n",
        "  df.reset_index()\n",
        "else:\n",
        "  df.insert(5, \"Hour\", hourTime, allow_duplicates=True) #se agrega una nueva columna \"Hour\" en el dataframe para guardar la hora del dia en el que vio cada titulo\n"
      ],
      "metadata": {
        "id": "tL-OvN7-PZHB"
      },
      "execution_count": 233,
      "outputs": []
    },
    {
      "cell_type": "code",
      "source": [
        "df['Day-Hour'] = df[['Day', 'Hour']].apply(lambda x: ' '.join(x), axis = 1) #se agrega una nueva columna \"Day-Hour\" en el dataframe para guardar el dia de la semana + la hora en que se vio cada titulo"
      ],
      "metadata": {
        "id": "HNuX0UMDwvAR"
      },
      "execution_count": 234,
      "outputs": []
    },
    {
      "cell_type": "code",
      "source": [
        "cantDayHour = df[\"Day-Hour\"].value_counts()#se cuenta cuantas veces aparece (cuantos titulos se vio) cada dia en cada hora"
      ],
      "metadata": {
        "id": "JkPNGYki-H67"
      },
      "execution_count": 235,
      "outputs": []
    },
    {
      "cell_type": "markdown",
      "source": [
        "Creamos un dataframe con las horas como indice, los dias como columnas y los values son la cantidad de veces que aparecen en la columna \"Day-Hour\" y lo convertimos en un heatmap"
      ],
      "metadata": {
        "id": "RRQZdgtVH-16"
      }
    },
    {
      "cell_type": "code",
      "source": [
        "dias = (\"Monday\", \"Tuesday\", \"Wednesday\", \"Thursday\", \"Friday\", \"Saturday\", \"Sunday\")\n",
        "horas = (\"00\", \"01\", \"02\", \"03\", \"04\", \"05\", \"06\", \"07\", \"08\", \"09\", \"10\", \"11\", \"12\", \"13\", \"14\", \"15\", \"16\", \"17\", \"18\", \"19\", \"20\", \"21\", \"22\", \"23\")\n",
        "df_grafico = pd.DataFrame({}, columns=dias)\n",
        "df_grafico[\"Hour\"] = horas\n",
        "df_grafico = df_grafico.set_index([\"Hour\"])\n",
        "\n",
        "\n",
        "for dia in dias:\n",
        "  for hora in horas:\n",
        "    for i in cantDayHour.index.tolist():\n",
        "      x = dia + \" \" + hora\n",
        "      if (i == x):\n",
        "        df_grafico.loc[hora, dia] = cantDayHour.get(i)\n",
        "      \n",
        "\n",
        "df_grafico = df_grafico.fillna(0)\n",
        "ax = sns.heatmap(df_grafico)\n",
        "ax\n"
      ],
      "metadata": {
        "id": "ZVj6yQWTW2P1",
        "colab": {
          "base_uri": "https://localhost:8080/",
          "height": 332
        },
        "outputId": "23a99801-8544-4a6e-d51d-f6d657532748"
      },
      "execution_count": 245,
      "outputs": [
        {
          "output_type": "execute_result",
          "data": {
            "text/plain": [
              "<matplotlib.axes._subplots.AxesSubplot at 0x7fa069f3b950>"
            ]
          },
          "metadata": {},
          "execution_count": 245
        },
        {
          "output_type": "display_data",
          "data": {
            "text/plain": [
              "<Figure size 432x288 with 2 Axes>"
            ],
            "image/png": "[encoded data removed]"
          },
          "metadata": {
            "needs_background": "light"
          }
        }
      ]
    },
    {
      "cell_type": "markdown",
      "source": [
        "##Contabilizar la cantidad de títulos vistos por año, graficar su variación a través de los años."
      ],
      "metadata": {
        "id": "8YYaqvYc6EH1"
      }
    },
    {
      "cell_type": "markdown",
      "source": [
        "Dividimos la fecha, y agarramos solo el año en el que se reproducio. Contamos cuantas veces aparece cada año, los ordenamos de mayor a menor y lo guardamos en una lista"
      ],
      "metadata": {
        "id": "-g5LdBOw2HhF"
      }
    },
    {
      "cell_type": "code",
      "source": [
        "allTitlesStartTime2 = df[\"Start Time\"]\n",
        "\n",
        "#funcion para tomar solo el año en que se reprodujo cada titulo\n",
        "def shortenStartTimeYear(startTimeTitles):\n",
        "  return startTimeTitles.split('-')[0] #divide cada valor de la columna \"Start Time\" por cada vez que aparece \"-\" y toma el primer valor, es decir, se devuelve solo el año\n",
        "\n",
        "allTitlesStartTime2[\"Start Time\"] = allTitlesStartTime2.apply(shortenStartTimeYear)\n",
        "\n",
        "onlyYear = allTitlesStartTime2[\"Start Time\"].value_counts().sort_index() #cuenta cuantas veces aparece cada año (cuantos titulos se vio cada año) y los ordena\n",
        "onlyYear"
      ],
      "metadata": {
        "id": "qeoNSKVZ6Gzq",
        "colab": {
          "base_uri": "https://localhost:8080/"
        },
        "outputId": "b5e1fb10-0c84-4cd4-84ff-6b73d8622e29"
      },
      "execution_count": 237,
      "outputs": [
        {
          "output_type": "stream",
          "name": "stderr",
          "text": [
            "/usr/local/lib/python3.7/dist-packages/ipykernel_launcher.py:7: SettingWithCopyWarning: \n",
            "A value is trying to be set on a copy of a slice from a DataFrame\n",
            "\n",
            "See the caveats in the documentation: https://pandas.pydata.org/pandas-docs/stable/user_guide/indexing.html#returning-a-view-versus-a-copy\n",
            "  import sys\n"
          ]
        },
        {
          "output_type": "execute_result",
          "data": {
            "text/plain": [
              "2015    1191\n",
              "2016     807\n",
              "2017     795\n",
              "2018     916\n",
              "2019     550\n",
              "2020    1016\n",
              "2021     722\n",
              "2022     294\n",
              "Name: Start Time, dtype: int64"
            ]
          },
          "metadata": {},
          "execution_count": 237
        }
      ]
    },
    {
      "cell_type": "markdown",
      "source": [
        "Separamos el año con la cantidad de veces que aparecen en dos variables distintas"
      ],
      "metadata": {
        "id": "-OV1wD1-2usf"
      }
    },
    {
      "cell_type": "code",
      "source": [
        "años = onlyYear.keys() \n",
        "cantAños = onlyYear.tolist()"
      ],
      "metadata": {
        "id": "s1KK8v5UAJyB"
      },
      "execution_count": 238,
      "outputs": []
    },
    {
      "cell_type": "markdown",
      "source": [
        "Creamos un grafico a partir de los datos previos"
      ],
      "metadata": {
        "id": "7Y3qSooe247J"
      }
    },
    {
      "cell_type": "code",
      "source": [
        "fig, ax = plt.subplots()\n",
        "ax.set_ylabel('Cantidad de titulos vistos')\n",
        "ax.set_xlabel('Años')\n",
        "plt.title ('Cantidad de titulos vistos por año')\n",
        "plt.bar(años, cantAños)\n",
        "plt.show()"
      ],
      "metadata": {
        "colab": {
          "base_uri": "https://localhost:8080/",
          "height": 295
        },
        "id": "rzEiNFhG_DDQ",
        "outputId": "a868a970-139c-4d79-dbb9-b959f10057b1"
      },
      "execution_count": 239,
      "outputs": [
        {
          "output_type": "display_data",
          "data": {
            "text/plain": [
              "<Figure size 432x288 with 1 Axes>"
            ],
            "image/png": "[encoded data removed]"
          },
          "metadata": {
            "needs_background": "light"
          }
        }
      ]
    },
    {
      "cell_type": "code",
      "source": [
        "plt.plot(años, cantAños)\n",
        "plt.title('Cantidad de titulos vistos por año')\n",
        "plt.xlabel('Años')\n",
        "plt.ylabel('Cantidad de titulos vistos por año')\n",
        "plt.show()"
      ],
      "metadata": {
        "colab": {
          "base_uri": "https://localhost:8080/",
          "height": 295
        },
        "id": "gGs2dXS7DNMy",
        "outputId": "4904ebb6-6f62-414b-d83a-40d3a8bc3bd9"
      },
      "execution_count": 240,
      "outputs": [
        {
          "output_type": "display_data",
          "data": {
            "text/plain": [
              "<Figure size 432x288 with 1 Axes>"
            ],
            "image/png": "[encoded data removed]"
          },
          "metadata": {
            "needs_background": "light"
          }
        }
      ]
    },
    {
      "cell_type": "markdown",
      "source": [
        "##Total de días de todos los títulos reproducidos."
      ],
      "metadata": {
        "id": "QzD-K3tQE_an"
      }
    },
    {
      "cell_type": "markdown",
      "source": [
        "Pasamos las duraciones de todos los titulos vistos a segundos, los sumamos y luego los pasamos a dias"
      ],
      "metadata": {
        "id": "CZz0r5uC3LVl"
      }
    },
    {
      "cell_type": "code",
      "source": [
        "titles = df[\"Duration\"] \n",
        "\n",
        "titlesDurationInSeconds = titles.apply(toSeconds)\n",
        "\n",
        "totalDias = int(titlesDurationInSeconds.sum() / 86400)\n",
        "\n",
        "print(\"El total de días de todos los titulos reproducidos es \" + str(totalDias))"
      ],
      "metadata": {
        "colab": {
          "base_uri": "https://localhost:8080/"
        },
        "id": "UypTa-26E-ME",
        "outputId": "649e43b9-8f8f-410d-b019-cfa3a92f2b78"
      },
      "execution_count": 241,
      "outputs": [
        {
          "output_type": "stream",
          "name": "stdout",
          "text": [
            "El total de días de todos los titulos reproducidos es 99\n"
          ]
        }
      ]
    }
  ]
}